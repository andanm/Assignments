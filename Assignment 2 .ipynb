{
 "cells": [
  {
   "cell_type": "raw",
   "id": "b4e127af",
   "metadata": {},
   "source": [
    "Answer 1\n",
    "The two types of boolean data types are True and False\n",
    "We can write true as True= 1 and false as False =0"
   ]
  },
  {
   "cell_type": "raw",
   "id": "5e486dba",
   "metadata": {},
   "source": [
    "Answer 2\n",
    "Different types of boolean operators are AND, OR, NOT"
   ]
  },
  {
   "cell_type": "raw",
   "id": "0e90436b",
   "metadata": {},
   "source": [
    "\"Answer 3\"\n",
    "True and True returns True\n",
    "True and False returns False\n",
    "False and False returns False\n",
    "False and True returns False\n",
    "True or True returns True\n",
    "True or False returns True\n",
    "False or False returns False\n",
    "False or True returns True\n",
    "not True False\n",
    "not False True"
   ]
  },
  {
   "cell_type": "raw",
   "id": "bfce60a3",
   "metadata": {},
   "source": [
    "\"Answer 4\"\n",
    "(5 > 4) and (3 == 5) False\n",
    "not (5 > 4) False\n",
    "(5 > 4) or (3 == 5) True\n",
    "not ((5 > 4) or (3 == 5)) False\n",
    "(True and True) and (True == False) False\n",
    "(not False) or (not True) True"
   ]
  },
  {
   "cell_type": "raw",
   "id": "ebc146a9",
   "metadata": {},
   "source": [
    "Answer 5\n",
    "Less Than <\n",
    "Less than or equal to <=\n",
    "Greater than >\n",
    "Greater than or equal to >=\n",
    "Equal to ==\n",
    "Not equal to !="
   ]
  },
  {
   "cell_type": "raw",
   "id": "da7387d5",
   "metadata": {},
   "source": [
    "Answer 6\n",
    "Assignment(=) is to assign the value \n",
    "Equal to (==) is to check whether the given operands are equal or not.\n",
    "For example a=10, it means we are assigning 10 to variable a whereas \n",
    "type(a)==int, it will check whether type of a is interger or not"
   ]
  },
  {
   "cell_type": "code",
   "execution_count": 12,
   "id": "b04207cc",
   "metadata": {},
   "outputs": [
    {
     "name": "stdout",
     "output_type": "stream",
     "text": [
      "ham\n",
      "spam\n",
      "spam\n"
     ]
    }
   ],
   "source": [
    "\"Answer 7\"\n",
    "\"Inteded block in line 3, 5, 7 i.e,\"\n",
    "\n",
    "spam = 0\n",
    "if spam == 10:\n",
    "    print('eggs')\n",
    "if spam > 5:\n",
    "    print('bacon')\n",
    "else:\n",
    "    print('ham')\n",
    "    print('spam')\n",
    "    print('spam')\n"
   ]
  },
  {
   "cell_type": "code",
   "execution_count": 14,
   "id": "713cac3a",
   "metadata": {},
   "outputs": [
    {
     "name": "stdout",
     "output_type": "stream",
     "text": [
      "Greetings\n"
     ]
    }
   ],
   "source": [
    "\"Answer 8\"\n",
    "if spam== 1:\n",
    "    print('Hello')\n",
    "if spam==2:\n",
    "    print(\"howdy\")\n",
    "else:\n",
    "    print(\"Greetings\")\n"
   ]
  },
  {
   "cell_type": "raw",
   "id": "710deb6c",
   "metadata": {},
   "source": [
    "Answer 9\n",
    "CTLR +C"
   ]
  },
  {
   "cell_type": "raw",
   "id": "e98e95ef",
   "metadata": {},
   "source": [
    "Answer 10\n",
    "Break statement terminates while or for loop completely whereas continue statement terminates the excuection of statement\n",
    "within the loop."
   ]
  },
  {
   "cell_type": "raw",
   "id": "fb7c22f6",
   "metadata": {},
   "source": [
    "Answer 11\n",
    "There is no difference between Range(10), Range(0,10), Range (0,10,1)"
   ]
  },
  {
   "cell_type": "code",
   "execution_count": 1,
   "id": "bd8346de",
   "metadata": {},
   "outputs": [
    {
     "name": "stdout",
     "output_type": "stream",
     "text": [
      "0\n",
      "1\n",
      "2\n",
      "3\n",
      "4\n",
      "5\n",
      "6\n",
      "7\n",
      "8\n",
      "9\n",
      "10\n"
     ]
    }
   ],
   "source": [
    "\"Answer 12\"\n",
    "for i in range (11):\n",
    "    print (i)"
   ]
  },
  {
   "cell_type": "code",
   "execution_count": 3,
   "id": "b92ed95e",
   "metadata": {},
   "outputs": [
    {
     "name": "stdout",
     "output_type": "stream",
     "text": [
      "1\n",
      "2\n",
      "3\n",
      "4\n",
      "5\n",
      "6\n",
      "7\n",
      "8\n",
      "9\n",
      "10\n"
     ]
    }
   ],
   "source": [
    "a=1\n",
    "b=10\n",
    "while a<= b:\n",
    "    print(a)\n",
    "    a=a+1"
   ]
  },
  {
   "cell_type": "raw",
   "id": "330ffdcd",
   "metadata": {},
   "source": [
    "Answer 13\n",
    "by using spam.bacon()"
   ]
  }
 ],
 "metadata": {
  "kernelspec": {
   "display_name": "Python 3 (ipykernel)",
   "language": "python",
   "name": "python3"
  },
  "language_info": {
   "codemirror_mode": {
    "name": "ipython",
    "version": 3
   },
   "file_extension": ".py",
   "mimetype": "text/x-python",
   "name": "python",
   "nbconvert_exporter": "python",
   "pygments_lexer": "ipython3",
   "version": "3.9.7"
  }
 },
 "nbformat": 4,
 "nbformat_minor": 5
}
