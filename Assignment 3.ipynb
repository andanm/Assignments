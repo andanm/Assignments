{
 "cells": [
  {
   "cell_type": "markdown",
   "id": "cad3e223",
   "metadata": {},
   "source": [
    "Answer 1\n",
    "Functions will avoid dulipication of codes and reduces the no of lines in the program "
   ]
  },
  {
   "cell_type": "markdown",
   "id": "dc871816",
   "metadata": {},
   "source": [
    "Answer 2\n",
    "Function will run when it's called"
   ]
  },
  {
   "cell_type": "markdown",
   "id": "096cb533",
   "metadata": {},
   "source": [
    "Answer 3\n",
    "def() creates a function"
   ]
  },
  {
   "cell_type": "markdown",
   "id": "bbcc1402",
   "metadata": {},
   "source": [
    "Answer 4\n",
    "Function is a block of code which performs particular operation and returns the output whereas \n",
    "Function call is a code use to pass control to the function."
   ]
  },
  {
   "cell_type": "markdown",
   "id": "0ab35794",
   "metadata": {},
   "source": [
    "Answer 5\n",
    "There is only one Global scope and locals scopes of python is created whenever we call function"
   ]
  },
  {
   "cell_type": "markdown",
   "id": "c44f2506",
   "metadata": {},
   "source": [
    "Answer 6\n",
    "When a function call returns, the local scope is destroyed and\n",
    "all the varibles which are present in it are forgot by the function"
   ]
  },
  {
   "cell_type": "markdown",
   "id": "31157a86",
   "metadata": {},
   "source": [
    "Answer 7\n",
    "A return value is a value that a function call to evaluted. \n",
    "Yes, Return value can be used as a expression."
   ]
  },
  {
   "cell_type": "markdown",
   "id": "dfc1ee7f",
   "metadata": {},
   "source": [
    "Answer 8\n",
    "If there is no return call in the function, \n",
    "then return value is none."
   ]
  },
  {
   "cell_type": "markdown",
   "id": "00bf7332",
   "metadata": {},
   "source": [
    "Answer 9\n",
    "The global statement will force a function to call global variable."
   ]
  },
  {
   "cell_type": "markdown",
   "id": "bc40e91e",
   "metadata": {},
   "source": [
    "Answer 10\n",
    "None type"
   ]
  },
  {
   "cell_type": "markdown",
   "id": "9a80243b",
   "metadata": {},
   "source": [
    "Answer 11\n",
    "The import function imports a module named 'areallyourpetsnamederic'."
   ]
  },
  {
   "cell_type": "markdown",
   "id": "781f2ac2",
   "metadata": {},
   "source": [
    "Answer 12\n",
    "By spam.bacon()"
   ]
  },
  {
   "cell_type": "markdown",
   "id": "d2cab851",
   "metadata": {},
   "source": [
    "Answer 13 \n",
    "we can write lines of code in try block. This will not crash the programme. \n",
    "And in except block we can catch the exception"
   ]
  },
  {
   "cell_type": "code",
   "execution_count": null,
   "id": "142aeaec",
   "metadata": {},
   "outputs": [],
   "source": [
    "Answer 14\n",
    "The code that could potentially cause an error goes in the try clause.\n",
    "The code that executes if an error happens goes in except clause."
   ]
  }
 ],
 "metadata": {
  "kernelspec": {
   "display_name": "Python 3 (ipykernel)",
   "language": "python",
   "name": "python3"
  },
  "language_info": {
   "codemirror_mode": {
    "name": "ipython",
    "version": 3
   },
   "file_extension": ".py",
   "mimetype": "text/x-python",
   "name": "python",
   "nbconvert_exporter": "python",
   "pygments_lexer": "ipython3",
   "version": "3.9.7"
  }
 },
 "nbformat": 4,
 "nbformat_minor": 5
}
