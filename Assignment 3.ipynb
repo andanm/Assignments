{
 "cells": [
  {
   "cell_type": "raw",
   "id": "cd98d925",
   "metadata": {},
   "source": [
    "Answer 1\n",
    "Functions will avoid dulipication of codes and reduces the no of lines in the program "
   ]
  },
  {
   "cell_type": "raw",
   "id": "635ba85e",
   "metadata": {},
   "source": [
    "Answer 2\n",
    "Function will run when it's called"
   ]
  },
  {
   "cell_type": "raw",
   "id": "4de5b3ab",
   "metadata": {},
   "source": [
    "Answer 3\n",
    "def() creates a function"
   ]
  },
  {
   "cell_type": "raw",
   "id": "13d2cfc0",
   "metadata": {},
   "source": [
    "Answer 4\n",
    "Function is a block of code which performs particular operation and returns the output whereas \n",
    "Function call is a code use to pass control to the function."
   ]
  },
  {
   "cell_type": "raw",
   "id": "ee4797c7",
   "metadata": {},
   "source": [
    "Answer 5\n",
    "There is only one Global scope and locals scopes of python is created whenever we call function"
   ]
  },
  {
   "cell_type": "raw",
   "id": "72fb03e3",
   "metadata": {},
   "source": [
    "Answer 6\n",
    "When a function call returns, the local scope is destroyed and\n",
    "all the varibles which are present in it are forgot by the function"
   ]
  },
  {
   "cell_type": "raw",
   "id": "213445f7",
   "metadata": {},
   "source": [
    "Answer 7\n",
    "A return value is a value that a function call to evaluted. \n",
    "Yes, Return value can be used as a expression."
   ]
  },
  {
   "cell_type": "raw",
   "id": "f4e729da",
   "metadata": {},
   "source": [
    "Answer 8\n",
    "If there is no return call in the function, \n",
    "then return value is none."
   ]
  },
  {
   "cell_type": "raw",
   "id": "3efa8888",
   "metadata": {},
   "source": [
    "Answer 9\n",
    "The global statement will force a function to call global variable."
   ]
  },
  {
   "cell_type": "raw",
   "id": "e581eb03",
   "metadata": {},
   "source": [
    "Answer 10\n",
    "None type"
   ]
  },
  {
   "cell_type": "raw",
   "id": "a6c715e4",
   "metadata": {},
   "source": [
    "Answer 11\n",
    "The import function imports a module named 'areallyourpetsnamederic'."
   ]
  },
  {
   "cell_type": "raw",
   "id": "6fdeb1c0",
   "metadata": {},
   "source": [
    "Answer 12\n",
    "By spam.bacon()"
   ]
  },
  {
   "cell_type": "markdown",
   "id": "06f2c25c",
   "metadata": {},
   "source": [
    "Answer 13\n",
    "we can write lines of code in try block. This will not crash the programme. And in except block we can catch the \n",
    "exception"
   ]
  },
  {
   "cell_type": "code",
   "execution_count": null,
   "id": "142aeaec",
   "metadata": {},
   "outputs": [],
   "source": [
    "Answer 14\n",
    "The code that could potentially cause an error goes in the try clause.\n",
    "The code that executes if an error happens goes in except clause."
   ]
  }
 ],
 "metadata": {
  "kernelspec": {
   "display_name": "Python 3 (ipykernel)",
   "language": "python",
   "name": "python3"
  },
  "language_info": {
   "codemirror_mode": {
    "name": "ipython",
    "version": 3
   },
   "file_extension": ".py",
   "mimetype": "text/x-python",
   "name": "python",
   "nbconvert_exporter": "python",
   "pygments_lexer": "ipython3",
   "version": "3.9.7"
  }
 },
 "nbformat": 4,
 "nbformat_minor": 5
}
