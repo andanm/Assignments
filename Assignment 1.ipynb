{
 "cells": [
  {
   "cell_type": "markdown",
   "id": "de6bead7",
   "metadata": {},
   "source": [
    "Answer 1.\n",
    "Values are ‘hello’, -87.8 and 6\n",
    "Operators are *, -.+ and /"
   ]
  },
  {
   "cell_type": "markdown",
   "id": "365831a7",
   "metadata": {},
   "source": [
    "Answer 2\n",
    "Variables are symbols used to store data in a program\n",
    "Strings are the data type which provide information to store in varibles"
   ]
  },
  {
   "cell_type": "markdown",
   "id": "a2924473",
   "metadata": {},
   "source": [
    "Answer 3\n",
    "Three different data types are\n",
    "a. Strings: It's a collection of one or more charater put together in single or doubke quote and represted by str\n",
    "b. Intergers: It's a collection of whole positive and negative numbers and represented by int\n",
    "c. Floting number: It's a collection of decimal numbers and represented by float"
   ]
  },
  {
   "cell_type": "markdown",
   "id": "7dc02013",
   "metadata": {},
   "source": [
    "Answer 4\n",
    "Expressions are combination of operators and operands.\n",
    "Expressions evaluate the single value."
   ]
  },
  {
   "cell_type": "markdown",
   "id": "fbd340b7",
   "metadata": {},
   "source": [
    "Answer 5\n",
    "Expression evaluate the value 10 but statement doeen't evaluate it."
   ]
  },
  {
   "cell_type": "code",
   "execution_count": 3,
   "id": "5be8969a",
   "metadata": {},
   "outputs": [
    {
     "data": {
      "text/plain": [
       "24"
      ]
     },
     "execution_count": 3,
     "metadata": {},
     "output_type": "execute_result"
    }
   ],
   "source": [
    "\"Answer 6\"\n",
    "bacon=22\n",
    "bacon+2"
   ]
  },
  {
   "cell_type": "code",
   "execution_count": 6,
   "id": "23d7b118",
   "metadata": {},
   "outputs": [
    {
     "data": {
      "text/plain": [
       "'spamspamspam'"
      ]
     },
     "execution_count": 6,
     "metadata": {},
     "output_type": "execute_result"
    }
   ],
   "source": [
    "\"Answer 7\"\n",
    "'spam'+ 'spamspam'"
   ]
  },
  {
   "cell_type": "code",
   "execution_count": 7,
   "id": "9508bf87",
   "metadata": {},
   "outputs": [
    {
     "data": {
      "text/plain": [
       "'spamspamspam'"
      ]
     },
     "execution_count": 7,
     "metadata": {},
     "output_type": "execute_result"
    }
   ],
   "source": [
    "\"spam\"*3"
   ]
  },
  {
   "cell_type": "markdown",
   "id": "6ad2db00",
   "metadata": {},
   "source": [
    "Answer 8\n",
    "Since Variable has to starts from underscore or a letter, \"Eggs\" are Variable and 100 is not"
   ]
  },
  {
   "cell_type": "markdown",
   "id": "eaf93819",
   "metadata": {},
   "source": [
    "Answer 9\n",
    "To get the values by \n",
    "Interger will be int()\n",
    "Floating point no. will be float()\n",
    "Strings will be str()"
   ]
  },
  {
   "cell_type": "code",
   "execution_count": 9,
   "id": "101cb8ae",
   "metadata": {},
   "outputs": [
    {
     "ename": "TypeError",
     "evalue": "can only concatenate str (not \"int\") to str",
     "output_type": "error",
     "traceback": [
      "\u001b[1;31m---------------------------------------------------------------------------\u001b[0m",
      "\u001b[1;31mTypeError\u001b[0m                                 Traceback (most recent call last)",
      "\u001b[1;32m~\\AppData\\Local\\Temp/ipykernel_18104/2630032025.py\u001b[0m in \u001b[0;36m<module>\u001b[1;34m\u001b[0m\n\u001b[0;32m      1\u001b[0m \u001b[1;34m\"Answer 10\"\u001b[0m\u001b[1;33m\u001b[0m\u001b[1;33m\u001b[0m\u001b[0m\n\u001b[1;32m----> 2\u001b[1;33m \u001b[1;34m'I have eaten '\u001b[0m \u001b[1;33m+\u001b[0m \u001b[1;36m99\u001b[0m \u001b[1;33m+\u001b[0m \u001b[1;34m' burritos.'\u001b[0m\u001b[1;33m\u001b[0m\u001b[1;33m\u001b[0m\u001b[0m\n\u001b[0m",
      "\u001b[1;31mTypeError\u001b[0m: can only concatenate str (not \"int\") to str"
     ]
    }
   ],
   "source": [
    "\"Answer 10\"\n",
    "'I have eaten ' + 99 + ' burritos.'"
   ]
  },
  {
   "cell_type": "code",
   "execution_count": 13,
   "id": "07c0d6ca",
   "metadata": {},
   "outputs": [
    {
     "data": {
      "text/plain": [
       "'I have eatan 99 burritos'"
      ]
     },
     "execution_count": 13,
     "metadata": {},
     "output_type": "execute_result"
    }
   ],
   "source": [
    "\"By converting integer value 99 to string. To fix this\"\n",
    "\"I have eatan\" +\" 99 \"+\"burritos\""
   ]
  },
  {
   "cell_type": "code",
   "execution_count": null,
   "id": "6fea68ab",
   "metadata": {},
   "outputs": [],
   "source": []
  }
 ],
 "metadata": {
  "kernelspec": {
   "display_name": "Python 3 (ipykernel)",
   "language": "python",
   "name": "python3"
  },
  "language_info": {
   "codemirror_mode": {
    "name": "ipython",
    "version": 3
   },
   "file_extension": ".py",
   "mimetype": "text/x-python",
   "name": "python",
   "nbconvert_exporter": "python",
   "pygments_lexer": "ipython3",
   "version": "3.9.7"
  }
 },
 "nbformat": 4,
 "nbformat_minor": 5
}
