{
 "cells": [
  {
   "cell_type": "code",
   "execution_count": 2,
   "id": "ea6ac8e4",
   "metadata": {},
   "outputs": [
    {
     "data": {
      "text/plain": [
       "list"
      ]
     },
     "execution_count": 2,
     "metadata": {},
     "output_type": "execute_result"
    }
   ],
   "source": [
    "\"Answer 1\"\n",
    "a=[]\n",
    "type(a)"
   ]
  },
  {
   "cell_type": "code",
   "execution_count": 3,
   "id": "c86cc395",
   "metadata": {},
   "outputs": [],
   "source": [
    "'Answer 2'\n",
    "spam= [2,4,6,8,10]\n",
    "spam.insert(3,\"hello\")"
   ]
  },
  {
   "cell_type": "code",
   "execution_count": 4,
   "id": "094e96ab",
   "metadata": {},
   "outputs": [
    {
     "data": {
      "text/plain": [
       "[2, 4, 6, 'hello', 8, 10]"
      ]
     },
     "execution_count": 4,
     "metadata": {},
     "output_type": "execute_result"
    }
   ],
   "source": [
    "spam"
   ]
  },
  {
   "cell_type": "code",
   "execution_count": 5,
   "id": "5cfce049",
   "metadata": {},
   "outputs": [],
   "source": [
    "spam=['a', 'b', 'c', 'd'] "
   ]
  },
  {
   "cell_type": "code",
   "execution_count": 6,
   "id": "92cc3ac6",
   "metadata": {},
   "outputs": [
    {
     "data": {
      "text/plain": [
       "'d'"
      ]
     },
     "execution_count": 6,
     "metadata": {},
     "output_type": "execute_result"
    }
   ],
   "source": [
    "'Answer 3'\n",
    "spam[int(int('3' * 2) / 11)]"
   ]
  },
  {
   "cell_type": "code",
   "execution_count": 7,
   "id": "15d29925",
   "metadata": {},
   "outputs": [
    {
     "data": {
      "text/plain": [
       "'d'"
      ]
     },
     "execution_count": 7,
     "metadata": {},
     "output_type": "execute_result"
    }
   ],
   "source": [
    "'Answer 4'\n",
    "spam[-1]"
   ]
  },
  {
   "cell_type": "code",
   "execution_count": 8,
   "id": "52532713",
   "metadata": {},
   "outputs": [
    {
     "data": {
      "text/plain": [
       "['a', 'b']"
      ]
     },
     "execution_count": 8,
     "metadata": {},
     "output_type": "execute_result"
    }
   ],
   "source": [
    "'Answer 5'\n",
    "spam[:2]"
   ]
  },
  {
   "cell_type": "code",
   "execution_count": 12,
   "id": "60627a37",
   "metadata": {},
   "outputs": [],
   "source": [
    "bacon=[3.14, 'cat',11, 'cat',True]"
   ]
  },
  {
   "cell_type": "code",
   "execution_count": 13,
   "id": "be56337d",
   "metadata": {},
   "outputs": [
    {
     "data": {
      "text/plain": [
       "1"
      ]
     },
     "execution_count": 13,
     "metadata": {},
     "output_type": "execute_result"
    }
   ],
   "source": [
    "'Answer 6'\n",
    "bacon.index('cat')"
   ]
  },
  {
   "cell_type": "code",
   "execution_count": 14,
   "id": "230c02fa",
   "metadata": {},
   "outputs": [
    {
     "data": {
      "text/plain": [
       "[3.14, 'cat', 11, 'cat', True, 99]"
      ]
     },
     "execution_count": 14,
     "metadata": {},
     "output_type": "execute_result"
    }
   ],
   "source": [
    "'Answer 7'\n",
    "bacon.append(99)\n",
    "bacon"
   ]
  },
  {
   "cell_type": "code",
   "execution_count": 15,
   "id": "1d963830",
   "metadata": {},
   "outputs": [
    {
     "data": {
      "text/plain": [
       "[3.14, 11, 'cat', True, 99]"
      ]
     },
     "execution_count": 15,
     "metadata": {},
     "output_type": "execute_result"
    }
   ],
   "source": [
    "'Answer 8'\n",
    "bacon.remove('cat')\n",
    "bacon"
   ]
  },
  {
   "cell_type": "markdown",
   "id": "78f47a02",
   "metadata": {},
   "source": [
    "'Answer 9'\n",
    "The list concatenation operator is + and list replication operator is *"
   ]
  },
  {
   "cell_type": "markdown",
   "id": "c2e0c477",
   "metadata": {},
   "source": [
    "'Answer 10'\n",
    "Append will add the variables at the end of the list whereas insert will add the varibles at any index number."
   ]
  },
  {
   "cell_type": "markdown",
   "id": "a8e3fe10",
   "metadata": {},
   "source": [
    "'Answer 11'\n",
    "To remove item from the list we can use\n",
    "l.remove()\n",
    "l.pop()"
   ]
  },
  {
   "cell_type": "markdown",
   "id": "9ac6c4a5",
   "metadata": {},
   "source": [
    "'Answer 12'\n",
    "1. List and string both are used to store value /data and both are sequence.\n",
    "2. List are used to store many type of datatypes (string, float, integer, etc) whereas \n",
    "String are used to store character in single or double quotes.\n",
    "3. List are mutable and string are immutable."
   ]
  },
  {
   "cell_type": "markdown",
   "id": "b9dec7fc",
   "metadata": {},
   "source": [
    "'Answer 13'\n",
    "1. Lists are listed within [] whereas tupules are listed using ()\n",
    "2. Lists are mutables whereas tuples are immutables."
   ]
  },
  {
   "cell_type": "code",
   "execution_count": 23,
   "id": "661ee1de",
   "metadata": {},
   "outputs": [
    {
     "data": {
      "text/plain": [
       "tuple"
      ]
     },
     "execution_count": 23,
     "metadata": {},
     "output_type": "execute_result"
    }
   ],
   "source": [
    "'Answer 14'\n",
    "a=(42,)\n",
    "type(a)"
   ]
  },
  {
   "cell_type": "code",
   "execution_count": 24,
   "id": "c46735a6",
   "metadata": {},
   "outputs": [
    {
     "data": {
      "text/plain": [
       "[1, 2, 3]"
      ]
     },
     "execution_count": 24,
     "metadata": {},
     "output_type": "execute_result"
    }
   ],
   "source": [
    "'Answer 15'\n",
    "b=(1,2,3)\n",
    "b1= list(b)\n",
    "b1"
   ]
  },
  {
   "cell_type": "code",
   "execution_count": 25,
   "id": "a4e59dd4",
   "metadata": {},
   "outputs": [
    {
     "data": {
      "text/plain": [
       "(2, 4, 6, 8)"
      ]
     },
     "execution_count": 25,
     "metadata": {},
     "output_type": "execute_result"
    }
   ],
   "source": [
    "c=[2,4,6,8]\n",
    "c1=tuple(c)\n",
    "c1"
   ]
  },
  {
   "cell_type": "markdown",
   "id": "16bac154",
   "metadata": {},
   "source": [
    "'Answer 16'\n",
    "They contain reference list values."
   ]
  },
  {
   "cell_type": "markdown",
   "id": "a2e38cc3",
   "metadata": {},
   "source": [
    "'Answer 17'\n",
    "1. The copy.copy() function will do a shallow copy of a list, \n",
    "2. The copy.deepcopy() function will do a deep copy of a list and also it can copy the list within the list"
   ]
  },
  {
   "cell_type": "code",
   "execution_count": null,
   "id": "32bff7da",
   "metadata": {},
   "outputs": [],
   "source": []
  }
 ],
 "metadata": {
  "kernelspec": {
   "display_name": "Python 3 (ipykernel)",
   "language": "python",
   "name": "python3"
  },
  "language_info": {
   "codemirror_mode": {
    "name": "ipython",
    "version": 3
   },
   "file_extension": ".py",
   "mimetype": "text/x-python",
   "name": "python",
   "nbconvert_exporter": "python",
   "pygments_lexer": "ipython3",
   "version": "3.9.7"
  }
 },
 "nbformat": 4,
 "nbformat_minor": 5
}
