{
 "cells": [
  {
   "cell_type": "markdown",
   "id": "03c88795",
   "metadata": {},
   "source": [
    "'Answer 1'\n",
    "Backlash \\ is the escape character and we are using\n",
    "1. 't\\' for the tab\n",
    "2. 'n\\' for the new line"
   ]
  },
  {
   "cell_type": "markdown",
   "id": "3586e612",
   "metadata": {},
   "source": [
    "'Answer 2'\n",
    "1. t for tab.\n",
    "2. n for new line"
   ]
  },
  {
   "cell_type": "markdown",
   "id": "9f570e70",
   "metadata": {},
   "source": [
    "'Answer 3'\n",
    "Backlash character followed by the character can be use to insert in the string."
   ]
  },
  {
   "cell_type": "markdown",
   "id": "fd2069de",
   "metadata": {},
   "source": [
    "'Answer 4'\n",
    "\"Howl's Moving Castle\"\n",
    "Here we were using single coat for the Howl's in the double coat. So its a correct value"
   ]
  },
  {
   "cell_type": "markdown",
   "id": "fb9f40bf",
   "metadata": {},
   "source": [
    "'Answer 5'\n",
    "Multi line strings allow you to use newlines in strings without the \\n escape character"
   ]
  },
  {
   "cell_type": "code",
   "execution_count": 3,
   "id": "4daef096",
   "metadata": {},
   "outputs": [
    {
     "data": {
      "text/plain": [
       "'e'"
      ]
     },
     "execution_count": 3,
     "metadata": {},
     "output_type": "execute_result"
    }
   ],
   "source": [
    "'Answer 6'\n",
    "'Hello, world!'[1]"
   ]
  },
  {
   "cell_type": "code",
   "execution_count": 4,
   "id": "4c84e71b",
   "metadata": {},
   "outputs": [
    {
     "data": {
      "text/plain": [
       "'Hello'"
      ]
     },
     "execution_count": 4,
     "metadata": {},
     "output_type": "execute_result"
    }
   ],
   "source": [
    "'Hello, world!'[0:5]"
   ]
  },
  {
   "cell_type": "code",
   "execution_count": 5,
   "id": "f02a311f",
   "metadata": {},
   "outputs": [
    {
     "data": {
      "text/plain": [
       "'Hello'"
      ]
     },
     "execution_count": 5,
     "metadata": {},
     "output_type": "execute_result"
    }
   ],
   "source": [
    "'Hello, world!'[:5]"
   ]
  },
  {
   "cell_type": "code",
   "execution_count": 6,
   "id": "bd748107",
   "metadata": {},
   "outputs": [
    {
     "data": {
      "text/plain": [
       "'lo, world!'"
      ]
     },
     "execution_count": 6,
     "metadata": {},
     "output_type": "execute_result"
    }
   ],
   "source": [
    "'Hello, world!'[3:]"
   ]
  },
  {
   "cell_type": "code",
   "execution_count": 7,
   "id": "83eb7ed4",
   "metadata": {},
   "outputs": [
    {
     "data": {
      "text/plain": [
       "'HELLO'"
      ]
     },
     "execution_count": 7,
     "metadata": {},
     "output_type": "execute_result"
    }
   ],
   "source": [
    "'Answer 7'\n",
    "'Hello'.upper()"
   ]
  },
  {
   "cell_type": "code",
   "execution_count": 8,
   "id": "f9705ef5",
   "metadata": {},
   "outputs": [
    {
     "data": {
      "text/plain": [
       "True"
      ]
     },
     "execution_count": 8,
     "metadata": {},
     "output_type": "execute_result"
    }
   ],
   "source": [
    "'Hello'.upper().isupper()"
   ]
  },
  {
   "cell_type": "code",
   "execution_count": 9,
   "id": "13d683e6",
   "metadata": {},
   "outputs": [
    {
     "data": {
      "text/plain": [
       "'hello'"
      ]
     },
     "execution_count": 9,
     "metadata": {},
     "output_type": "execute_result"
    }
   ],
   "source": [
    "'Hello'.upper().lower()"
   ]
  },
  {
   "cell_type": "code",
   "execution_count": 10,
   "id": "7cc8f233",
   "metadata": {},
   "outputs": [
    {
     "data": {
      "text/plain": [
       "['Remember,', 'remember,', 'the', 'fifth', 'of', 'July.']"
      ]
     },
     "execution_count": 10,
     "metadata": {},
     "output_type": "execute_result"
    }
   ],
   "source": [
    "'Answer 8'\n",
    "'Remember, remember, the fifth of July.'.split()"
   ]
  },
  {
   "cell_type": "code",
   "execution_count": 11,
   "id": "9dcf93bf",
   "metadata": {},
   "outputs": [
    {
     "data": {
      "text/plain": [
       "'There-can-only-one.'"
      ]
     },
     "execution_count": 11,
     "metadata": {},
     "output_type": "execute_result"
    }
   ],
   "source": [
    "'-'.join('There can only one.'.split())"
   ]
  },
  {
   "cell_type": "markdown",
   "id": "d71594ac",
   "metadata": {},
   "source": [
    "'Answer 9'\n",
    "1. rjust() \n",
    "2. ljust()\n",
    "3. Center()"
   ]
  },
  {
   "cell_type": "markdown",
   "id": "bfdb2026",
   "metadata": {},
   "source": [
    "\"Answer 10\"\n",
    "lstrip() and rstrip are used to remove character from left and right respectively."
   ]
  }
 ],
 "metadata": {
  "kernelspec": {
   "display_name": "Python 3 (ipykernel)",
   "language": "python",
   "name": "python3"
  },
  "language_info": {
   "codemirror_mode": {
    "name": "ipython",
    "version": 3
   },
   "file_extension": ".py",
   "mimetype": "text/x-python",
   "name": "python",
   "nbconvert_exporter": "python",
   "pygments_lexer": "ipython3",
   "version": "3.9.7"
  }
 },
 "nbformat": 4,
 "nbformat_minor": 5
}
